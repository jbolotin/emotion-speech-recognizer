{
 "cells": [
  {
   "cell_type": "code",
   "execution_count": 105,
   "metadata": {
    "collapsed": true
   },
   "outputs": [],
   "source": [
    "# import libraries\n",
    "import numpy as np\n",
    "import glob, os\n",
    "import torch\n",
    "os.chdir('../..')"
   ]
  },
  {
   "cell_type": "markdown",
   "metadata": {},
   "source": [
    "# Main"
   ]
  },
  {
   "cell_type": "code",
   "execution_count": 103,
   "metadata": {
    "collapsed": true
   },
   "outputs": [],
   "source": [
    "def main():\n",
    "    truth_values, file_names = get_file_information()\n",
    "    training_matrix = process_data(file_names)\n",
    "    training_matrix = numpy_to_torch(training_matrix)\n",
    "    "
   ]
  },
  {
   "cell_type": "code",
   "execution_count": 104,
   "metadata": {
    "collapsed": false
   },
   "outputs": [
    {
     "name": "stdout",
     "output_type": "stream",
     "text": [
      "(590, 2100)\n"
     ]
    }
   ],
   "source": [
    "main()"
   ]
  },
  {
   "cell_type": "code",
   "execution_count": 106,
   "metadata": {
    "collapsed": true
   },
   "outputs": [],
   "source": [
    "def numpy_to_torch(array):\n",
    "    return torch.from_numpy(array)"
   ]
  },
  {
   "cell_type": "markdown",
   "metadata": {},
   "source": [
    "# Get all file names"
   ]
  },
  {
   "cell_type": "code",
   "execution_count": 96,
   "metadata": {
    "collapsed": false
   },
   "outputs": [],
   "source": [
    "def get_file_information():\n",
    "    truth_values = []\n",
    "    file_names = []\n",
    "    base_directory = os.getcwd() + '/train'\n",
    "    subdirectories = ['anger', 'despair', 'happiness', 'neutral', 'sadness']\n",
    "    for directory in subdirectories:\n",
    "        os.chdir(base_directory + '/' + directory)\n",
    "        for file_name in glob.glob(\"*.csv\"):\n",
    "            truth_values.append(directory)\n",
    "            file_names.append(os.getcwd() + '/' + file_name)\n",
    "    return truth_values, file_names"
   ]
  },
  {
   "cell_type": "markdown",
   "metadata": {},
   "source": [
    "# Load data into numpy"
   ]
  },
  {
   "cell_type": "code",
   "execution_count": 70,
   "metadata": {
    "collapsed": false,
    "scrolled": true
   },
   "outputs": [],
   "source": [
    "# Load CSV and return np.ndarray\n",
    "def csv_to_numpy(filename):\n",
    "    raw_data = open(filename, 'rt')\n",
    "    data = np.loadtxt(raw_data, delimiter=\",\",skiprows=1)\n",
    "    return data\n"
   ]
  },
  {
   "cell_type": "markdown",
   "metadata": {},
   "source": [
    "# Delete rows beyond 140 or add extra rows if not 140 length"
   ]
  },
  {
   "cell_type": "code",
   "execution_count": 71,
   "metadata": {
    "collapsed": false
   },
   "outputs": [],
   "source": [
    "# Need standard length for file for matrix\n",
    "# Returns flattened array for big matrix\n",
    "def format_np_and_flatten(data):\n",
    "    num_rows = data.shape[0]\n",
    "    if num_rows > 140: # delete rows\n",
    "        data = np.delete(data, slice(140,num_rows), axis=0)\n",
    "    else: # add rows of zeros\n",
    "        num_rows_to_add = 140 - num_rows\n",
    "        rows = np.zeros((num_rows_to_add, data.shape[1]))\n",
    "        data = np.append(data, rows, axis=0)\n",
    "    return data.flatten()"
   ]
  },
  {
   "cell_type": "markdown",
   "metadata": {},
   "source": [
    "# Process data"
   ]
  },
  {
   "cell_type": "code",
   "execution_count": 87,
   "metadata": {
    "collapsed": true
   },
   "outputs": [],
   "source": [
    "def process_data(file_names):\n",
    "    training_matrix = []\n",
    "    for filename in file_names:\n",
    "        data = csv_to_numpy(filename)\n",
    "        data = format_np_and_flatten(data)\n",
    "        training_matrix.append(data)\n",
    "    return np.array(training_matrix)"
   ]
  },
  {
   "cell_type": "code",
   "execution_count": 82,
   "metadata": {
    "collapsed": false
   },
   "outputs": [],
   "source": []
  },
  {
   "cell_type": "code",
   "execution_count": 83,
   "metadata": {
    "collapsed": false
   },
   "outputs": [
    {
     "data": {
      "text/plain": [
       "[array([  0.      ,   0.      , -13.66599 , ...,   6.692688,   3.497931,\n",
       "         10.05002 ])]"
      ]
     },
     "execution_count": 83,
     "metadata": {},
     "output_type": "execute_result"
    }
   ],
   "source": [
    "training_matrix"
   ]
  },
  {
   "cell_type": "code",
   "execution_count": 84,
   "metadata": {
    "collapsed": true
   },
   "outputs": [],
   "source": [
    "training_matrix = np.array(training_matrix)"
   ]
  },
  {
   "cell_type": "code",
   "execution_count": 85,
   "metadata": {
    "collapsed": false
   },
   "outputs": [
    {
     "data": {
      "text/plain": [
       "array([[  0.      ,   0.      , -13.66599 , ...,   6.692688,   3.497931,\n",
       "         10.05002 ]])"
      ]
     },
     "execution_count": 85,
     "metadata": {},
     "output_type": "execute_result"
    }
   ],
   "source": [
    "training_matrix"
   ]
  },
  {
   "cell_type": "code",
   "execution_count": null,
   "metadata": {
    "collapsed": true
   },
   "outputs": [],
   "source": []
  }
 ],
 "metadata": {
  "kernelspec": {
   "display_name": "Python 2",
   "language": "python",
   "name": "python2"
  },
  "language_info": {
   "codemirror_mode": {
    "name": "ipython",
    "version": 2
   },
   "file_extension": ".py",
   "mimetype": "text/x-python",
   "name": "python",
   "nbconvert_exporter": "python",
   "pygments_lexer": "ipython2",
   "version": "2.7.9"
  }
 },
 "nbformat": 4,
 "nbformat_minor": 0
}
